{
  "nbformat": 4,
  "nbformat_minor": 0,
  "metadata": {
    "colab": {
      "provenance": [],
      "authorship_tag": "ABX9TyNv7bKBWkDb3frhdbg7AbhS",
      "include_colab_link": true
    },
    "kernelspec": {
      "name": "python3",
      "display_name": "Python 3"
    },
    "language_info": {
      "name": "python"
    }
  },
  "cells": [
    {
      "cell_type": "markdown",
      "metadata": {
        "id": "view-in-github",
        "colab_type": "text"
      },
      "source": [
        "<a href=\"https://colab.research.google.com/github/theotrc/Classifiez_automatiquement_des_biens_de_consommation/blob/main/Classification_biens_consommation.ipynb\" target=\"_parent\"><img src=\"https://colab.research.google.com/assets/colab-badge.svg\" alt=\"Open In Colab\"/></a>"
      ]
    },
    {
      "cell_type": "markdown",
      "source": [
        "## Imports"
      ],
      "metadata": {
        "id": "TdadPSA37aVO"
      }
    },
    {
      "cell_type": "code",
      "source": [],
      "metadata": {
        "id": "cJQG_vXc7dcv"
      },
      "execution_count": null,
      "outputs": []
    }
  ]
}